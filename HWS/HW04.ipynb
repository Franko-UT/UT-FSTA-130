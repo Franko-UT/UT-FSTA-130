{
 "cells": [
  {
   "cell_type": "markdown",
   "id": "8bdd59f6",
   "metadata": {},
   "source": [
    "# Before HW, I hope the format are good.\n",
    "\n",
    "# Q1\n",
    "## Answer\n",
    "The \"standard deviation\" of the original data measures how spread out the individual data points are in the sample. It captures the variability or dispersion within the dataset itself.\n",
    "The \"standard error of the mean\" (SEM), on the other hand, is a measure of how much variability there is in the sample means across different possible samples drawn from the same population. It reflects the uncertainty or precision of the sample mean as an estimate of the population mean.\n",
    "\n"
   ]
  },
  {
   "cell_type": "markdown",
   "id": "f67b0715",
   "metadata": {},
   "source": [
    "# Q2\n",
    "## Answer\n",
    "\n",
    "1. **Calculate the sample mean (X̄)**: This is the average of your data points.\n",
    "\n",
    "2. **Compute the standard error of the mean (SEM)**: This is the standard deviation of your sample divided by the square root of the sample size (n).\n",
    "\n",
    "   SEM = SD/sqrt(n)\n",
    "\n",
    "3. **Multiply the SEM by 1.96**: For a 95% confidence level, multiply the SEM by 1.96 (which comes from the z-score for a 95% confidence interval).\n",
    "\n",
    "4. **Construct the confidence interval**: Take the sample mean (X̄) and add and subtract the value from step 3.\n",
    "\n",
    "   CI=Xˉ±1.96×SEM\n"
   ]
  },
  {
   "cell_type": "markdown",
   "id": "d4447591",
   "metadata": {},
   "source": [
    "# Q3\n",
    "## Answer\n",
    "To create a 95% **bootstrapped confidence interval** using the bootstrapped sample means, I would do these steps:\n",
    "\n",
    "1. **Resample your data**: Generate a large number of bootstrap samples (e.g., 10,000). Each sample is created by randomly drawing with replacement from your original dataset.\n",
    "\n",
    "2. **Calculate the mean for each bootstrap sample**: For each of the resampled datasets, compute the mean.\n",
    "\n",
    "3. **Sort the bootstrapped means**: Arrange all the calculated bootstrapped means in ascending order.\n",
    "\n",
    "4. **Find the percentiles**: To form a 95% confidence interval, identify the 2.5th percentile and the 97.5th percentile of the sorted bootstrapped means. This range captures the middle 95% of the bootstrapped means.\n",
    "\n",
    "   CI=[2.5th percentile,97.5th percentile]"
   ]
  },
  {
   "cell_type": "markdown",
   "id": "97150603",
   "metadata": {},
   "source": [
    "# Q4 \n",
    "[Chat Link](https://chatgpt.com/share/66ff4a14-0658-8004-84bd-488a8eea37ad)\n",
    "## Chat Output\n",
    "Let's walk through how to create a bootstrap confidence interval for a population mean, and then I'll explain how to modify the code for a different parameter, like the median.\n",
    "\n",
    "### Step-by-step explanation of the process:\n",
    "\n",
    "1. **Sample Generation**: If you don't have a real dataset, you can generate a sample. For simplicity, let's use a randomly generated sample from a normal distribution.\n",
    "2. **Resampling**: To create a bootstrap sample, you resample from your original sample *with replacement*. This mimics drawing a new sample from the population.\n",
    "3. **Statistic Calculation**: For each bootstrap sample, calculate the statistic you're interested in (mean, median, etc.).\n",
    "4. **Confidence Interval Construction**: After repeating the resampling process many times (say, 10,000 times), you can estimate the confidence interval by taking the 2.5th and 97.5th percentiles of the bootstrap distribution.\n",
    "\n",
    "Let’s write the code for a 95% confidence interval for the **mean** first, then I'll explain how to adapt it for the **median**.\n",
    "\n",
    "### Bootstrap for Population Mean\n"
   ]
  },
  {
   "cell_type": "code",
   "execution_count": 5,
   "id": "f98ffd26",
   "metadata": {},
   "outputs": [
    {
     "name": "stdout",
     "output_type": "stream",
     "text": [
      "95% Bootstrap Confidence Interval for the Mean: [48.63930182 52.59653391]\n"
     ]
    }
   ],
   "source": [
    "import numpy as np\n",
    "\n",
    "# Step 1: Generate a sample ( IN case Not Real online)\n",
    "np.random.seed(0)  # For reproducibility\n",
    "sample = np.random.normal(loc=50, scale=10, size=100)\n",
    "\n",
    "# Step 2: Define a function to perform bootstrap sampling and compute the confidence interval\n",
    "def bootstrap_ci_mean(sample, num_bootstrap=10000, ci=95):\n",
    "    bootstrapped_means = []\n",
    "    \n",
    "    # Step 3: Generate bootstrap samples and calculate the mean for each sample\n",
    "    for _ in range(num_bootstrap):\n",
    "        bootstrap_sample = np.random.choice(sample, size=len(sample), replace=True)\n",
    "        bootstrapped_means.append(np.mean(bootstrap_sample))\n",
    "    \n",
    "    # Step 4: Compute the confidence interval percentiles\n",
    "    lower_percentile = (100 - ci) / 2\n",
    "    upper_percentile = 100 - lower_percentile\n",
    "    confidence_interval = np.percentile(bootstrapped_means, [lower_percentile, upper_percentile])\n",
    "    \n",
    "    return confidence_interval\n",
    "\n",
    "# Step 5: Calculate and print the 95% confidence interval for the mean\n",
    "ci_mean = bootstrap_ci_mean(sample)\n",
    "print(f\"95% Bootstrap Confidence Interval for the Mean: {ci_mean}\")"
   ]
  },
  {
   "cell_type": "markdown",
   "id": "c89003a8",
   "metadata": {},
   "source": [
    "### Explanation:\n",
    "- We generate 10,000 bootstrap samples from the original sample.\n",
    "- For each bootstrap sample, we calculate the mean.\n",
    "- Finally, we take the 2.5th and 97.5th percentiles of the means to form the 95% confidence interval.\n",
    "\n",
    "### Modifying the Code for the Median:\n",
    "To change this code to calculate the 95% bootstrap confidence interval for the **median** instead of the mean, all we need to do is replace the `np.mean` function with `np.median`.\n"
   ]
  },
  {
   "cell_type": "code",
   "execution_count": 7,
   "id": "5250dc90",
   "metadata": {},
   "outputs": [
    {
     "name": "stdout",
     "output_type": "stream",
     "text": [
      "95% Bootstrap Confidence Interval for the Median: [-0.28626366  0.21279124]\n"
     ]
    }
   ],
   "source": [
    "def bootstrap_ci_median(sample, num_bootstrap=10000, ci=95):\n",
    "    bootstrapped_medians = []\n",
    "    \n",
    "    # Generate bootstrap samples and calculate the median for each sample\n",
    "    for _ in range(num_bootstrap):\n",
    "        bootstrap_sample = np.random.choice(sample, size=len(sample), replace=True)\n",
    "        bootstrapped_medians.append(np.median(bootstrap_sample))\n",
    "    \n",
    "    # Compute the confidence interval percentiles\n",
    "    lower_percentile = (100 - ci) / 2\n",
    "    upper_percentile = 100 - lower_percentile\n",
    "    confidence_interval = np.percentile(bootstrapped_medians, [lower_percentile, upper_percentile])\n",
    "    \n",
    "    return confidence_interval\n",
    "\n",
    "# Calculate and print the 95% confidence interval for the median\n",
    "ci_median = bootstrap_ci_median(sample)\n",
    "print(f\"95% Bootstrap Confidence Interval for the Median: {ci_median}\")"
   ]
  },
  {
   "cell_type": "markdown",
   "id": "3b205dc9",
   "metadata": {},
   "source": [
    "\n",
    "### Key Changes:\n",
    "- The only major change is in how we calculate the statistic for each bootstrap sample: in this case, we calculate the median instead of the mean using `np.median`.\n",
    "\n",
    "Try running this code and rephrase the comments in your own words to ensure you've fully grasped it. If you have any questions, let me know!\n",
    "\n",
    "## Personal \n",
    "So basically here is the python code for it."
   ]
  },
  {
   "cell_type": "code",
   "execution_count": 6,
   "id": "9f01fd33",
   "metadata": {},
   "outputs": [
    {
     "name": "stdout",
     "output_type": "stream",
     "text": [
      "95% Bootstrap Confidence Interval for the Mean: [-0.12521161028510974, 0.2215071117871137]\n"
     ]
    }
   ],
   "source": [
    "import numpy as np\n",
    "\n",
    "# Create a sample of data\n",
    "sample = np.random.randn(100)  # Example sample: 100 random data points from a normal distribution\n",
    "\n",
    "# Set up parameters for bootstrapping\n",
    "n_bootstraps = 10000  # Number of bootstrap samples\n",
    "bootstrapped_means = []  # List to store the means from each bootstrap sample\n",
    "\n",
    "# Bootstrap procedure\n",
    "for _ in range(n_bootstraps):\n",
    "    # Resample with replacement from the original sample\n",
    "    bootstrap_sample = np.random.choice(sample, size=len(sample), replace=True)\n",
    "    \n",
    "    # Calculate the statistic of interest: mean in this case\n",
    "    bootstrapped_means.append(np.mean(bootstrap_sample))\n",
    "\n",
    "# Calculate the 95% confidence interval from the bootstrapped means\n",
    "lower_bound = np.percentile(bootstrapped_means, 2.5)  # 2.5th percentile\n",
    "upper_bound = np.percentile(bootstrapped_means, 97.5)  # 97.5th percentile\n",
    "\n",
    "print(f\"95% Bootstrap Confidence Interval for the Mean: [{lower_bound}, {upper_bound}]\")\n"
   ]
  },
  {
   "cell_type": "markdown",
   "id": "d0d09a4f",
   "metadata": {},
   "source": [
    "# Q5\n",
    "## Chat output\n",
    "The distinction between population parameters and sample statistics is crucial when constructing confidence intervals because they represent different aspects of statistical inference.\n",
    "\n",
    "- **Population parameters** are fixed values that describe the entire population (e.g., the true mean, median, or proportion of the population). However, they are typically unknown because we rarely have access to data for the entire population.\n",
    "  \n",
    "- **Sample statistics**, on the other hand, are calculated from a sample drawn from the population. These statistics (e.g., sample mean or sample median) vary depending on the sample and are used as estimates for the unknown population parameters.\n",
    "\n",
    "Confidence intervals are constructed around **sample statistics** to give a range of plausible values for the **population parameter**. The interval reflects our uncertainty about the parameter based on the sample data. Understanding this distinction helps in interpreting confidence intervals correctly: they give us insight into the population parameter, but are derived from the variability in the sample statistics. \n",
    "## Personal thinking\n",
    "The distinction between the **population parameter** and the **sample statistic** is crucial for confidence intervals because they serve different purposes in statistics:\n",
    "\n",
    "- **Population parameter**: This is the actual, unknown value in the entire population (e.g., the population mean or median). Since it's often impossible to measure the entire population, this value remains unknown and must be estimated.\n",
    "  \n",
    "- **Sample statistic**: This is the value calculated from a sample drawn from the population (e.g., sample mean or median). It is used as an estimate of the population parameter.\n",
    "\n",
    "Confidence intervals are designed to provide a **range of plausible values for the population parameter**, based on the sample statistic. The sample statistic itself is known from the data, but the confidence interval quantifies the uncertainty in estimating the **unknown** population parameter. This distinction matters because we are trying to infer properties of the population, not just describe the sample.\n",
    "\n",
    "The biggest difference is the Population Parameter is unknown while Sample Statistic is already unknown. And Sampe statistic is used to estimate Population Paremeter."
   ]
  },
  {
   "cell_type": "code",
   "execution_count": null,
   "id": "ed35f2f7",
   "metadata": {},
   "outputs": [],
   "source": []
  }
 ],
 "metadata": {
  "kernelspec": {
   "display_name": "Python 3 (ipykernel)",
   "language": "python",
   "name": "python3"
  },
  "language_info": {
   "codemirror_mode": {
    "name": "ipython",
    "version": 3
   },
   "file_extension": ".py",
   "mimetype": "text/x-python",
   "name": "python",
   "nbconvert_exporter": "python",
   "pygments_lexer": "ipython3",
   "version": "3.11.6"
  }
 },
 "nbformat": 4,
 "nbformat_minor": 5
}
