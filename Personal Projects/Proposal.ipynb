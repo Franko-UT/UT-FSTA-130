{
 "cells": [
  {
   "cell_type": "markdown",
   "id": "fa504700",
   "metadata": {},
   "source": [
    "### Individual Proposal: Correlation Between Agreeability and Age with Python Implementation\n",
    "\n",
    "#### 1. Introduction\n",
    "Understanding how our personality evolved with age offers valuable insights into our human behavior. This project basically focuses on the relationship between age and agreeability, which is a key personality trait influencing how people cooperate and interact. By analyzing data from various age groups, we aim to uncover trends and patterns that reveal how agreeability changed as people grew older. This knowledge could help with designing better community programs and fostering improved interpersonal relationships across different life stages.\n",
    "\n",
    "#### 2. Research Question\n",
    "**Primary Question:** How does agreeability correlate with age?\n",
    "\n",
    "#### 3. Data Description\n",
    "The dataset, **CSCS_data_anon.csv**, includes:\n",
    "- `age`: Numeric data representing the participant's age.\n",
    "- `agreeability`: A numerical score indicating agreeability level.\n",
    "\n",
    "#### 4. Methodology and Python Steps\n",
    "\n",
    "**Step 1: Data Loading and Cleaning**"
   ]
  },
  {
   "cell_type": "markdown",
   "id": "750db43f",
   "metadata": {},
   "source": [
    "```python\n",
    "import pandas as pd\n",
    "\n",
    "# Load the dataset\n",
    "data = pd.read_csv('./CSCS_data_anon.csv')\n",
    "\n",
    "# Inspect and clean data\n",
    "print(data.info())\n",
    "data = data.dropna(subset=['age', 'agreeability'])  # Drop missing values\n",
    "```"
   ]
  },
  {
   "cell_type": "markdown",
   "id": "540da24d",
   "metadata": {},
   "source": [
    "**Step 2: Exploratory Data Analysis**\n",
    "```python\n",
    "import matplotlib.pyplot as plt\n",
    "\n",
    "# Plot agreeability by age\n",
    "plt.scatter(data['age'], data['agreeability'])\n",
    "plt.xlabel('Age')\n",
    "plt.ylabel('Agreeability')\n",
    "plt.title('Scatter plot of Agreeability vs Age')\n",
    "plt.show()\n",
    "```\n",
    "\n",
    "**Step 3: Correlation Analysis**\n",
    "```python\n",
    "# Calculate correlation coefficient\n",
    "correlation = data['age'].corr(data['agreeability'])\n",
    "print(f'Correlation coefficient: {correlation}')\n",
    "```\n",
    "\n",
    "**Step 4: Regression Analysis**\n",
    "```python\n",
    "import statsmodels.api as sm\n",
    "\n",
    "# Prepare the data\n",
    "X = sm.add_constant(data['age'])  # Adds a constant term to the predictor\n",
    "y = data['agreeability']\n",
    "\n",
    "# Fit the model\n",
    "model = sm.OLS(y, X).fit()\n",
    "print(model.summary())\n",
    "```\n",
    "\n",
    "**Step 5: Interpretation and Visualization**\n",
    "```python\n",
    "# Plot regression line\n",
    "plt.scatter(data['age'], data['agreeability'], label='Data points')\n",
    "plt.plot(data['age'], model.predict(X), color='red', label='Regression line')\n",
    "plt.xlabel('Age')\n",
    "plt.ylabel('Agreeability')\n",
    "plt.legend()\n",
    "plt.title('Regression Analysis of Agreeability vs Age')\n",
    "plt.show()\n",
    "```\n",
    "\n",
    "#### 5. Expected Outcome\n",
    "By implementing the above steps, the project will:\n",
    "- Quantify the correlation between age and agreeability.\n",
    "- Provide statistical insights through regression analysis.\n",
    "- Offer visual representations of the data and model fit."
   ]
  },
  {
   "cell_type": "markdown",
   "id": "041b5be8",
   "metadata": {},
   "source": [
    "By analyzing the correlation between age and agreeability, I expected to uncovering meaningful patterns. The results will help us understand whether agreeability increases or decreases with age, or if certain life stages significantly influenced this trait. These findings could also provide practical insights into how different age groups interact, and helping organizations and communities tailor their programs to enhance cooperation and social harmony. Ultimately, this research could contributes to fostering better understanding and collaboration across generations."
   ]
  },
  {
   "cell_type": "code",
   "execution_count": null,
   "id": "234960ab",
   "metadata": {},
   "outputs": [],
   "source": []
  }
 ],
 "metadata": {
  "kernelspec": {
   "display_name": "Python 3 (ipykernel)",
   "language": "python",
   "name": "python3"
  },
  "language_info": {
   "codemirror_mode": {
    "name": "ipython",
    "version": 3
   },
   "file_extension": ".py",
   "mimetype": "text/x-python",
   "name": "python",
   "nbconvert_exporter": "python",
   "pygments_lexer": "ipython3",
   "version": "3.11.6"
  }
 },
 "nbformat": 4,
 "nbformat_minor": 5
}
