{
 "cells": [
  {
   "cell_type": "markdown",
   "metadata": {},
   "source": [
    "Here is a Python-based exam covering the key concepts from your STA130 course:\n",
    "\n",
    "### Section 1: Data Summarization\n",
    "1. **(5 points)** Given the dataset `data = [12, 15, 21, 19, 23, 18, 10]`, write a Python function to calculate the mean and standard deviation.\n",
    "    - **Bonus**: Visualize the data with a histogram using `matplotlib`.\n",
    "\n",
    "2. **(5 points)** Write a Python function to compute the five-number summary (minimum, Q1, median, Q3, maximum) of a dataset.\n",
    "\n",
    "### Section 2: Bootstrapping\n",
    "3. **(10 points)** Given a dataset `data = [10, 12, 9, 15, 14, 11, 10, 18]`, write a Python script to perform 1000 bootstrap samples to estimate the mean of the dataset. Plot the distribution of the bootstrapped means.\n",
    "\n",
    "### Section 3: Hypothesis Testing\n",
    "4. **(10 points)** Write Python code to perform a one-sample t-test. Use the dataset `data = [14, 12, 15, 13, 17, 16, 10]` and test whether the population mean is significantly different from 12. Output the t-statistic and p-value.\n",
    "    - **Bonus**: Explain how the p-value can be interpreted in this context.\n",
    "\n",
    "### Section 4: Coding and Data Visualization\n",
    "5. **(10 points)** Using the dataset below, write Python code to generate a boxplot and identify any potential outliers:\n",
    "```python\n",
    "data = [45, 48, 46, 50, 52, 49, 44, 100, 48, 47]\n",
    "```\n",
    "\n",
    "### Section 5: Conceptual Understanding\n",
    "6. **(10 points)** Explain the difference between parametric and non-parametric methods in statistics. Provide an example of a situation where you would use bootstrapping instead of traditional methods.\n",
    "\n",
    "This covers the core areas from weeks 1–5, including coding, summarization, hypothesis testing, and bootstrapping."
   ]
  },
  {
   "cell_type": "markdown",
   "metadata": {},
   "source": []
  }
 ],
 "metadata": {
  "language_info": {
   "name": "python"
  }
 },
 "nbformat": 4,
 "nbformat_minor": 2
}
