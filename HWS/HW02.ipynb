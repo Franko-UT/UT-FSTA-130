import numpy as np

# Define the three doors: 1, 2, 3
all_doors = [1, 2, 3]

# Initial choice of the contestant is always door 1 for consistency
initial_choice = 1

# Variable to count the number of times the contestant wins by switching doors
wins = 0

# Number of times to repeat the simulation for statistical accuracy
# Reduced to 10,000 to avoid execution timeout
repetitions = 10000

# Run the simulation for the specified number of repetitions
for _ in range(repetitions):
    # Randomly choose the door that hides the car (winning door)
    winning_door = np.random.choice(all_doors)
    
    # List of doors excluding the initial choice and the winning door for Monty to reveal a goat door
    remaining_doors = [door for door in all_doors if door != initial_choice and door != winning_door]
    
    # Monty reveals a goat door from the remaining options
    monty_reveal = np.random.choice(remaining_doors)
    
    # The contestant switches to the remaining unopened door
    switched_choice = [door for door in all_doors if door != initial_choice and door != monty_reveal][0]
    
    # Check if the switched door is the winning door
    if switched_choice == winning_door:
        wins += 1

# Calculate the win rate by switching doors
win_rate = wins / repetitions

# Print the result of the simulation
print(win_rate)
